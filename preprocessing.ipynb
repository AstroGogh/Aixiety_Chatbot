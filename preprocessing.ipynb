{
 "cells": [
  {
   "cell_type": "code",
   "execution_count": 65,
   "metadata": {},
   "outputs": [],
   "source": [
    "import re\n",
    "import json\n",
    "import pandas as pd"
   ]
  },
  {
   "cell_type": "code",
   "execution_count": 28,
   "metadata": {},
   "outputs": [
    {
     "data": {
      "text/html": [
       "<div>\n",
       "<style scoped>\n",
       "    .dataframe tbody tr th:only-of-type {\n",
       "        vertical-align: middle;\n",
       "    }\n",
       "\n",
       "    .dataframe tbody tr th {\n",
       "        vertical-align: top;\n",
       "    }\n",
       "\n",
       "    .dataframe thead th {\n",
       "        text-align: right;\n",
       "    }\n",
       "</style>\n",
       "<table border=\"1\" class=\"dataframe\">\n",
       "  <thead>\n",
       "    <tr style=\"text-align: right;\">\n",
       "      <th></th>\n",
       "      <th>instruction</th>\n",
       "      <th>input</th>\n",
       "      <th>output</th>\n",
       "    </tr>\n",
       "  </thead>\n",
       "  <tbody>\n",
       "    <tr>\n",
       "      <th>0</th>\n",
       "      <td>Jika Anda seorang psikolog berlisensi, harap b...</td>\n",
       "      <td>Saya merasa sangat cemas akhir -akhir ini dan ...</td>\n",
       "      <td>Terkadang merasa cemas, dan ada banyak alasan ...</td>\n",
       "    </tr>\n",
       "    <tr>\n",
       "      <th>1</th>\n",
       "      <td>Jika Anda seorang psikolog berlisensi, harap b...</td>\n",
       "      <td>Saya pikir pasangan saya mungkin selingkuh.Apa...</td>\n",
       "      <td>Dapat dimengerti untuk merasa khawatir dan cur...</td>\n",
       "    </tr>\n",
       "    <tr>\n",
       "      <th>2</th>\n",
       "      <td>Jika Anda seorang psikolog berlisensi, harap b...</td>\n",
       "      <td>Saya merasa sangat kewalahan dengan pekerjaan ...</td>\n",
       "      <td>Sepertinya Anda sedang mengalami masa sulit.Ma...</td>\n",
       "    </tr>\n",
       "    <tr>\n",
       "      <th>3</th>\n",
       "      <td>Jika Anda seorang psikolog berlisensi, harap b...</td>\n",
       "      <td>Saya kesulitan tidur dan saya terus -menerus l...</td>\n",
       "      <td>Penting untuk berbicara dengan dokter Anda ten...</td>\n",
       "    </tr>\n",
       "    <tr>\n",
       "      <th>4</th>\n",
       "      <td>Jika Anda seorang psikolog berlisensi, harap b...</td>\n",
       "      <td>Saya merasa sangat cemas akhir -akhir ini, dan...</td>\n",
       "      <td>Adalah umum untuk merasa cemas tanpa mengetahu...</td>\n",
       "    </tr>\n",
       "  </tbody>\n",
       "</table>\n",
       "</div>"
      ],
      "text/plain": [
       "                                         instruction  \\\n",
       "0  Jika Anda seorang psikolog berlisensi, harap b...   \n",
       "1  Jika Anda seorang psikolog berlisensi, harap b...   \n",
       "2  Jika Anda seorang psikolog berlisensi, harap b...   \n",
       "3  Jika Anda seorang psikolog berlisensi, harap b...   \n",
       "4  Jika Anda seorang psikolog berlisensi, harap b...   \n",
       "\n",
       "                                               input  \\\n",
       "0  Saya merasa sangat cemas akhir -akhir ini dan ...   \n",
       "1  Saya pikir pasangan saya mungkin selingkuh.Apa...   \n",
       "2  Saya merasa sangat kewalahan dengan pekerjaan ...   \n",
       "3  Saya kesulitan tidur dan saya terus -menerus l...   \n",
       "4  Saya merasa sangat cemas akhir -akhir ini, dan...   \n",
       "\n",
       "                                              output  \n",
       "0  Terkadang merasa cemas, dan ada banyak alasan ...  \n",
       "1  Dapat dimengerti untuk merasa khawatir dan cur...  \n",
       "2  Sepertinya Anda sedang mengalami masa sulit.Ma...  \n",
       "3  Penting untuk berbicara dengan dokter Anda ten...  \n",
       "4  Adalah umum untuk merasa cemas tanpa mengetahu...  "
      ]
     },
     "execution_count": 28,
     "metadata": {},
     "output_type": "execute_result"
    }
   ],
   "source": [
    "data = pd.read_json('data/Psychology-10K-Indo.json')\n",
    "data.reset_index().to_json(orient='records')\n",
    "data.head()"
   ]
  },
  {
   "cell_type": "code",
   "execution_count": 5,
   "metadata": {},
   "outputs": [],
   "source": [
    "def cleaned_text(text):\n",
    "    #Separate dots if connected to a letter \n",
    "    cleaned_text = re.sub(r'\\.(\\w)', r'. \\1', text)\n",
    "\n",
    "    #Remove space after dash\n",
    "    cleaned_text = re.sub(r' - ', '-', cleaned_text)\n",
    "\n",
    "    \n",
    "\n",
    "    return cleaned_text"
   ]
  },
  {
   "cell_type": "code",
   "execution_count": 49,
   "metadata": {},
   "outputs": [],
   "source": [
    "data['instruction'] = data['instruction'].apply(cleaned_text)\n",
    "data['input'] = data['input'].apply(cleaned_text)\n",
    "data['output'] = data['output'].apply(cleaned_text)"
   ]
  },
  {
   "cell_type": "code",
   "execution_count": 115,
   "metadata": {},
   "outputs": [],
   "source": [
    "# data['text'] = data.apply(\n",
    "#     lambda row: \n",
    "# f\"\"\"Below is an instruction that outlines a task, accompanied by an input that offers additional context. Your role is to craft a response that effectively fulfills the request.  \n",
    "# ### Instruction: \n",
    "# {row['instruction']} \n",
    "    \n",
    "# ### Input: \n",
    "# {row['input']} \n",
    "    \n",
    "# ### Response: \n",
    "# {row['output']}\n",
    "# \"\"\", axis=1)\n",
    "\n",
    "data['text'] = data.apply(\n",
    "    lambda row: \n",
    "f''' <s>[INST] <<SYS>>\n",
    "{row['instruction']}\n",
    "<</SYS>\n",
    "\n",
    "{row['input']} [/INST] {row['output']} </s>\n",
    "'''.replace('\\n', ' '), axis=1)"
   ]
  },
  {
   "cell_type": "code",
   "execution_count": 110,
   "metadata": {},
   "outputs": [
    {
     "name": "stdout",
     "output_type": "stream",
     "text": [
      " <s>[INST] <<SYS>> Jika Anda seorang psikolog berlisensi, harap berikan pasien ini tanggapan yang bermanfaat untuk kekhawatiran mereka. <</SYS>  Saya pikir pasangan saya mungkin selingkuh. Apa yang harus saya lakukan? [/INST] Dapat dimengerti untuk merasa khawatir dan curiga dalam situasi ini. Sudahkah Anda berbicara dengan pasangan tentang kekhawatiran Anda?Penting untuk berkomunikasi secara terbuka dan jujur dengan mereka. Jika Anda masih merasa tidak pasti, kami dapat berupaya mengembangkan rencana untuk mengatasi situasi dengan cara yang sehat dan konstruktif. </s> \n"
     ]
    }
   ],
   "source": [
    "print(data['text'][1])"
   ]
  },
  {
   "cell_type": "code",
   "execution_count": 116,
   "metadata": {},
   "outputs": [],
   "source": [
    "data.to_json('output.json', orient='records', lines=True)"
   ]
  },
  {
   "cell_type": "code",
   "execution_count": 111,
   "metadata": {},
   "outputs": [
    {
     "name": "stdout",
     "output_type": "stream",
     "text": [
      "JSON Succesfully Exported.\n"
     ]
    }
   ],
   "source": [
    "data_dict = data.to_dict(orient='records')\n",
    "\n",
    "with open('data/Psychology-10K-Indo.json', \"w\", encoding='utf-8') as f:\n",
    "    json.dump(data_dict, f, ensure_ascii=False, indent=None)  # Ensure_ascii=False prevents escaping characters\n",
    "\n",
    "print(\"JSON Succesfully Exported.\")"
   ]
  }
 ],
 "metadata": {
  "kernelspec": {
   "display_name": "aixiety",
   "language": "python",
   "name": "python3"
  },
  "language_info": {
   "codemirror_mode": {
    "name": "ipython",
    "version": 3
   },
   "file_extension": ".py",
   "mimetype": "text/x-python",
   "name": "python",
   "nbconvert_exporter": "python",
   "pygments_lexer": "ipython3",
   "version": "3.10.0"
  },
  "orig_nbformat": 4
 },
 "nbformat": 4,
 "nbformat_minor": 2
}
