{
 "cells": [
  {
   "cell_type": "code",
   "execution_count": 1,
   "metadata": {},
   "outputs": [
    {
     "name": "stderr",
     "output_type": "stream",
     "text": [
      "c:\\Users\\vincencius\\anaconda3\\envs\\aixiety\\lib\\site-packages\\tqdm\\auto.py:21: TqdmWarning: IProgress not found. Please update jupyter and ipywidgets. See https://ipywidgets.readthedocs.io/en/stable/user_install.html\n",
      "  from .autonotebook import tqdm as notebook_tqdm\n"
     ]
    }
   ],
   "source": [
    "import truss\n",
    "from pathlib import Path\n",
    "import requests"
   ]
  },
  {
   "cell_type": "code",
   "execution_count": 9,
   "metadata": {},
   "outputs": [
    {
     "name": "stdout",
     "output_type": "stream",
     "text": [
      "<truss.truss_handle.TrussHandle object at 0x0000013D0B53C790>\n"
     ]
    }
   ],
   "source": [
    "#Containerize Model\n",
    "tr = truss.load(Path(\"/llama-2-7b-aixiety\"))\n",
    "# command = tr.docker_build_setup(build_dir=Path(\"./llama-2-7b-aixiety-v2\"))\n",
    "\n",
    "print(tr)"
   ]
  },
  {
   "cell_type": "code",
   "execution_count": 10,
   "metadata": {},
   "outputs": [
    {
     "data": {
      "text/plain": [
       "'docker build llama-2-7b-aixiety -t custom-model:latest'"
      ]
     },
     "execution_count": 10,
     "metadata": {},
     "output_type": "execute_result"
    }
   ],
   "source": [
    "tr.docker_build_setup(build_dir=Path(\"./llama-2-7b-aixiety\"))"
   ]
  },
  {
   "cell_type": "code",
   "execution_count": 2,
   "metadata": {},
   "outputs": [],
   "source": [
    "history = {'prompt': [\n",
    "    {\n",
    "        'instruction': \"Aku merasa sedih belakangan ini\",\n",
    "        'response': ''\n",
    "    }\n",
    "]}"
   ]
  },
  {
   "cell_type": "code",
   "execution_count": 10,
   "metadata": {},
   "outputs": [
    {
     "name": "stdout",
     "output_type": "stream",
     "text": [
      "{'data': {'generated_text': '<s>[INST] <<SYS>>\\nAnda adalah psikolog berlisensi, harap berikan pasien ini tanggapan yang bermanfaat untuk kekhawatiran mereka. \\nPastikan mereka merasa nyaman dengan bertanya untuk memahami masalah mereka terlebih dahulu. \\nJika topik berada diluar ranah psikolog, alihkan pembicaraan mengenai kesehatan mental pasien.\\n<</SYS>>\\n\\n1+1 adalah [/INST] '}}\n"
     ]
    }
   ],
   "source": [
    "res = requests.post(\"http://34.71.99.215:8080/v1/models/model:predict\", json=data)\n",
    "res.close()\n",
    "print(res.json())"
   ]
  },
  {
   "cell_type": "code",
   "execution_count": null,
   "metadata": {},
   "outputs": [],
   "source": []
  }
 ],
 "metadata": {
  "kernelspec": {
   "display_name": "aixiety",
   "language": "python",
   "name": "python3"
  },
  "language_info": {
   "codemirror_mode": {
    "name": "ipython",
    "version": 3
   },
   "file_extension": ".py",
   "mimetype": "text/x-python",
   "name": "python",
   "nbconvert_exporter": "python",
   "pygments_lexer": "ipython3",
   "version": "3.10.0"
  },
  "orig_nbformat": 4
 },
 "nbformat": 4,
 "nbformat_minor": 2
}
